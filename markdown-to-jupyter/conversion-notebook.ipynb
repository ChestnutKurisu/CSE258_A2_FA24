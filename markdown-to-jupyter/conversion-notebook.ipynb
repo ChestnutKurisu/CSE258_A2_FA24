{
 "cells": [
  {
   "cell_type": "code",
   "id": "initial_id",
   "metadata": {
    "collapsed": true,
    "ExecuteTime": {
     "end_time": "2024-11-14T17:59:16.681370Z",
     "start_time": "2024-11-14T17:59:16.664122Z"
    }
   },
   "source": [
    "import nbformat\n",
    "from nbformat.v4 import new_notebook, new_markdown_cell, new_code_cell\n",
    "\n",
    "def markdown_to_jupyter(markdown_text):\n",
    "    nb = new_notebook()\n",
    "    lines = markdown_text.split('\\n')\n",
    "    current_cell = []\n",
    "    in_code_block = False\n",
    "    \n",
    "    for line in lines:\n",
    "        if line.startswith('```'):\n",
    "            if in_code_block:\n",
    "                # End of code block\n",
    "                nb.cells.append(new_code_cell('\\n'.join(current_cell)))\n",
    "                current_cell = []\n",
    "                in_code_block = False\n",
    "            else:\n",
    "                # Start of code block\n",
    "                if current_cell:\n",
    "                    nb.cells.append(new_markdown_cell('\\n'.join(current_cell)))\n",
    "                    current_cell = []\n",
    "                in_code_block = True\n",
    "        else:\n",
    "            current_cell.append(line)\n",
    "    \n",
    "    # Add any remaining content as a markdown cell\n",
    "    if current_cell:\n",
    "        nb.cells.append(new_markdown_cell('\\n'.join(current_cell)))\n",
    "    \n",
    "    return nb\n",
    "\n",
    "# Example usage\n",
    "markdown_text = r''''''"
   ],
   "outputs": [],
   "execution_count": 15
  },
  {
   "metadata": {
    "ExecuteTime": {
     "end_time": "2024-11-14T17:59:17.303208Z",
     "start_time": "2024-11-14T17:59:17.266156Z"
    }
   },
   "cell_type": "code",
   "source": [
    "notebook = markdown_to_jupyter(markdown_text)\n",
    "with open('output_notebook.ipynb', 'w') as f:\n",
    "    nbformat.write(notebook, f)"
   ],
   "id": "29b248b3e383e3d1",
   "outputs": [],
   "execution_count": 16
  },
  {
   "metadata": {},
   "cell_type": "code",
   "outputs": [],
   "execution_count": null,
   "source": "",
   "id": "f7503c44e7f2f372"
  }
 ],
 "metadata": {
  "kernelspec": {
   "display_name": "Python 3",
   "language": "python",
   "name": "python3"
  },
  "language_info": {
   "codemirror_mode": {
    "name": "ipython",
    "version": 2
   },
   "file_extension": ".py",
   "mimetype": "text/x-python",
   "name": "python",
   "nbconvert_exporter": "python",
   "pygments_lexer": "ipython2",
   "version": "2.7.6"
  }
 },
 "nbformat": 4,
 "nbformat_minor": 5
}
